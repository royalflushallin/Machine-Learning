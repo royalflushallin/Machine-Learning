{
  "nbformat": 4,
  "nbformat_minor": 0,
  "metadata": {
    "colab": {
      "name": "MNIST_svmLinear.ipynb",
      "provenance": [],
      "collapsed_sections": [],
      "include_colab_link": true
    },
    "kernelspec": {
      "name": "python3",
      "display_name": "Python 3"
    },
    "language_info": {
      "name": "python"
    }
  },
  "cells": [
    {
      "cell_type": "markdown",
      "metadata": {
        "id": "view-in-github",
        "colab_type": "text"
      },
      "source": [
        "<a href=\"https://colab.research.google.com/github/royalflushallin/Machine-Learning/blob/main/MNIST_svmLinear.ipynb\" target=\"_parent\"><img src=\"https://colab.research.google.com/assets/colab-badge.svg\" alt=\"Open In Colab\"/></a>"
      ]
    },
    {
      "cell_type": "markdown",
      "metadata": {
        "id": "oPNH0puvG_v9"
      },
      "source": [
        "Importing libraries"
      ]
    },
    {
      "cell_type": "code",
      "metadata": {
        "id": "2wk_xJh9HurL"
      },
      "source": [
        "import numpy as np\n",
        "import matplotlib.pyplot as plt\n",
        "import pandas as pd"
      ],
      "execution_count": 1,
      "outputs": []
    },
    {
      "cell_type": "markdown",
      "metadata": {
        "id": "imcQftsSHEPf"
      },
      "source": [
        "Importing datasets"
      ]
    },
    {
      "cell_type": "code",
      "metadata": {
        "id": "N2d7Wwc0Hvfv"
      },
      "source": [
        "dataset = pd.read_csv('mnist_train.csv')\n",
        "X_train = dataset.iloc[:, 1:].values\n",
        "y_train = dataset.iloc[:, 0].values"
      ],
      "execution_count": 2,
      "outputs": []
    },
    {
      "cell_type": "code",
      "metadata": {
        "id": "BgpNQzUQNHCB"
      },
      "source": [
        "dataset = pd.read_csv('mnist_test.csv')\n",
        "X_test = dataset.iloc[:, 1:].values\n",
        "y_test = dataset.iloc[:, 0].values"
      ],
      "execution_count": 3,
      "outputs": []
    },
    {
      "cell_type": "markdown",
      "metadata": {
        "id": "mwfaguqcNK3h"
      },
      "source": [
        "Feature scaling"
      ]
    },
    {
      "cell_type": "code",
      "metadata": {
        "id": "fy40hshHT0Ww"
      },
      "source": [
        "from sklearn.preprocessing import StandardScaler\n",
        "sc = StandardScaler()\n",
        "X_train = sc.fit_transform(X_train)\n",
        "X_test = sc.transform(X_test)"
      ],
      "execution_count": 4,
      "outputs": []
    },
    {
      "cell_type": "markdown",
      "metadata": {
        "id": "LTrSqU5RT1TI"
      },
      "source": [
        "Training the multi-class SVM-linear kernel model"
      ]
    },
    {
      "cell_type": "code",
      "metadata": {
        "id": "vxPmww4PT_v5",
        "colab": {
          "base_uri": "https://localhost:8080/"
        },
        "outputId": "ebda96a1-4ba6-4c47-bc99-65bbb854591c"
      },
      "source": [
        "from sklearn.svm import SVC\n",
        "classifier = SVC(random_state=0, kernel = 'linear', decision_function_shape='ovr')\n",
        "classifier.fit(X_train, y_train)"
      ],
      "execution_count": 5,
      "outputs": [
        {
          "output_type": "execute_result",
          "data": {
            "text/plain": [
              "SVC(C=1.0, break_ties=False, cache_size=200, class_weight=None, coef0=0.0,\n",
              "    decision_function_shape='ovr', degree=3, gamma='scale', kernel='linear',\n",
              "    max_iter=-1, probability=False, random_state=0, shrinking=True, tol=0.001,\n",
              "    verbose=False)"
            ]
          },
          "metadata": {
            "tags": []
          },
          "execution_count": 5
        }
      ]
    },
    {
      "cell_type": "markdown",
      "metadata": {
        "id": "BDjQHA0LUTKt"
      },
      "source": [
        "Predicting results"
      ]
    },
    {
      "cell_type": "code",
      "metadata": {
        "id": "6dUr7_Y-UXtY",
        "colab": {
          "base_uri": "https://localhost:8080/"
        },
        "outputId": "772ede7e-41a0-4139-8ec4-d4ab2f886ddb"
      },
      "source": [
        "y_pred = classifier.predict(X_test)\n",
        "print(np.concatenate((y_pred.reshape(len(y_pred),1), y_test.reshape(len(y_test),1)),1))\n",
        "y_pred_train = classifier.predict(X_train)"
      ],
      "execution_count": 6,
      "outputs": [
        {
          "output_type": "stream",
          "text": [
            "[[2 2]\n",
            " [1 1]\n",
            " [0 0]\n",
            " ...\n",
            " [4 4]\n",
            " [5 5]\n",
            " [6 6]]\n"
          ],
          "name": "stdout"
        }
      ]
    },
    {
      "cell_type": "markdown",
      "metadata": {
        "id": "omYufCJjUcnt"
      },
      "source": [
        "Test-set Confusion Matrix "
      ]
    },
    {
      "cell_type": "code",
      "metadata": {
        "id": "8RPglRBNUdDu",
        "colab": {
          "base_uri": "https://localhost:8080/"
        },
        "outputId": "06919752-67c3-4930-d730-3e84a6a17650"
      },
      "source": [
        "from sklearn.metrics import confusion_matrix, accuracy_score\n",
        "cm = confusion_matrix(y_test, y_pred)\n",
        "print(cm)\n",
        "accuracy_score(y_test, y_pred)"
      ],
      "execution_count": 7,
      "outputs": [
        {
          "output_type": "stream",
          "text": [
            "[[ 951    0    5    2    2    8    8    2    1    1]\n",
            " [   0 1119    6    2    0    1    2    1    4    0]\n",
            " [  10   13  956   11    7    4    5    6   18    2]\n",
            " [   7    1   15  941    0   16    1    6   19    4]\n",
            " [   3    2   18    1  929    0    3    5    4   17]\n",
            " [   7    6    7   41    6  789   12    2   19    3]\n",
            " [  12    3   13    1    8   17  902    0    2    0]\n",
            " [   2    8   23   13   10    1    0  944    5   21]\n",
            " [  12    6   11   28    8   24    9    6  858   12]\n",
            " [   6    7    6   10   36    4    1   23   13  903]]\n"
          ],
          "name": "stdout"
        },
        {
          "output_type": "execute_result",
          "data": {
            "text/plain": [
              "0.9292929292929293"
            ]
          },
          "metadata": {
            "tags": []
          },
          "execution_count": 7
        }
      ]
    },
    {
      "cell_type": "markdown",
      "metadata": {
        "id": "1jjBf9-XU3aX"
      },
      "source": [
        "Training-set Confusion Matrix "
      ]
    },
    {
      "cell_type": "code",
      "metadata": {
        "id": "ojejtF4oU4CW",
        "colab": {
          "base_uri": "https://localhost:8080/"
        },
        "outputId": "05532211-cbd8-4cd8-bbea-09e7b533e5fb"
      },
      "source": [
        "from sklearn.metrics import confusion_matrix, accuracy_score\n",
        "cm_train = confusion_matrix(y_train, y_pred_train)\n",
        "print(cm_train)\n",
        "accuracy_score(y_train, y_pred_train)"
      ],
      "execution_count": 8,
      "outputs": [
        {
          "output_type": "stream",
          "text": [
            "[[5922    0    0    0    0    0    0    0    1    0]\n",
            " [   0 6737    0    0    0    0    0    0    5    0]\n",
            " [   4    6 5878   29    4    0    4    1   32    0]\n",
            " [   5    7   64 5933    2   68    0    1   45    6]\n",
            " [   0    6    0    1 5771    0    0    0    0   64]\n",
            " [   8    8    6  101    9 5243   11    0   32    2]\n",
            " [   1    0    1    0    1    4 5911    0    0    0]\n",
            " [   0    2    8    7   16    0    0 6157    0   75]\n",
            " [  14   27   24   65    4   61    1    4 5644    7]\n",
            " [   1    7    2   10   79    3    0  110    9 5728]]\n"
          ],
          "name": "stdout"
        },
        {
          "output_type": "execute_result",
          "data": {
            "text/plain": [
              "0.9820830347172453"
            ]
          },
          "metadata": {
            "tags": []
          },
          "execution_count": 8
        }
      ]
    }
  ]
}