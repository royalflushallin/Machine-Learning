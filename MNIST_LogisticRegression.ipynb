{
  "nbformat": 4,
  "nbformat_minor": 0,
  "metadata": {
    "colab": {
      "name": "MNIST_LogisticRegression.ipynb",
      "provenance": [],
      "collapsed_sections": [],
      "include_colab_link": true
    },
    "kernelspec": {
      "name": "python3",
      "display_name": "Python 3"
    },
    "language_info": {
      "name": "python"
    }
  },
  "cells": [
    {
      "cell_type": "markdown",
      "metadata": {
        "id": "view-in-github",
        "colab_type": "text"
      },
      "source": [
        "<a href=\"https://colab.research.google.com/github/royalflushallin/Machine-Learning/blob/main/MNIST_LogisticRegression.ipynb\" target=\"_parent\"><img src=\"https://colab.research.google.com/assets/colab-badge.svg\" alt=\"Open In Colab\"/></a>"
      ]
    },
    {
      "cell_type": "markdown",
      "metadata": {
        "id": "oPNH0puvG_v9"
      },
      "source": [
        "Importing libraries"
      ]
    },
    {
      "cell_type": "code",
      "metadata": {
        "id": "2wk_xJh9HurL"
      },
      "source": [
        "import numpy as np\n",
        "import matplotlib.pyplot as plt\n",
        "import pandas as pd"
      ],
      "execution_count": 31,
      "outputs": []
    },
    {
      "cell_type": "markdown",
      "metadata": {
        "id": "imcQftsSHEPf"
      },
      "source": [
        "Importing datasets"
      ]
    },
    {
      "cell_type": "code",
      "metadata": {
        "id": "N2d7Wwc0Hvfv"
      },
      "source": [
        "dataset_train = pd.read_csv('mnist_train.csv')\n",
        "X_train = dataset_train.iloc[:, 1:].values\n",
        "y_train = dataset_train.iloc[:, 0].values"
      ],
      "execution_count": 32,
      "outputs": []
    },
    {
      "cell_type": "code",
      "metadata": {
        "id": "BgpNQzUQNHCB"
      },
      "source": [
        "dataset_test = pd.read_csv('mnist_test.csv')\n",
        "X_test = dataset_test.iloc[:, 1:].values\n",
        "y_test = dataset_test.iloc[:, 0].values"
      ],
      "execution_count": 33,
      "outputs": []
    },
    {
      "cell_type": "markdown",
      "metadata": {
        "id": "mwfaguqcNK3h"
      },
      "source": [
        "Feature scaling"
      ]
    },
    {
      "cell_type": "code",
      "metadata": {
        "id": "71AiXHCGO05Q"
      },
      "source": [
        "from sklearn.preprocessing import StandardScaler\n",
        "sc = StandardScaler()\n",
        "X_train = sc.fit_transform(X_train)\n",
        "X_test = sc.transform(X_test)"
      ],
      "execution_count": 34,
      "outputs": []
    },
    {
      "cell_type": "markdown",
      "metadata": {
        "id": "k34tmpcynoxt"
      },
      "source": [
        "Training the multi-class Logistic Regression model"
      ]
    },
    {
      "cell_type": "code",
      "metadata": {
        "colab": {
          "base_uri": "https://localhost:8080/"
        },
        "id": "sL2hmGw_nu2w",
        "outputId": "1887d5f3-efe0-4fb5-8c51-1a1e3da73b97"
      },
      "source": [
        "from sklearn.linear_model import LogisticRegression\n",
        "classifier = LogisticRegression(random_state=0, multi_class='ovr', max_iter=1000)\n",
        "classifier.fit(X_train, y_train)"
      ],
      "execution_count": 35,
      "outputs": [
        {
          "output_type": "execute_result",
          "data": {
            "text/plain": [
              "LogisticRegression(C=1.0, class_weight=None, dual=False, fit_intercept=True,\n",
              "                   intercept_scaling=1, l1_ratio=None, max_iter=1000,\n",
              "                   multi_class='ovr', n_jobs=None, penalty='l2', random_state=0,\n",
              "                   solver='lbfgs', tol=0.0001, verbose=0, warm_start=False)"
            ]
          },
          "metadata": {
            "tags": []
          },
          "execution_count": 35
        }
      ]
    },
    {
      "cell_type": "markdown",
      "metadata": {
        "id": "pI_3XYP0nzBS"
      },
      "source": [
        "Predicting results"
      ]
    },
    {
      "cell_type": "code",
      "metadata": {
        "colab": {
          "base_uri": "https://localhost:8080/"
        },
        "id": "0-i5D4mDn2BQ",
        "outputId": "165f2d94-8417-4470-8cea-36165ad4c0d8"
      },
      "source": [
        "y_pred = classifier.predict(X_test)\n",
        "print(np.concatenate((y_pred.reshape(len(y_pred),1), y_test.reshape(len(y_test),1)),1))\n",
        "y_pred_train = classifier.predict(X_train)"
      ],
      "execution_count": 36,
      "outputs": [
        {
          "output_type": "stream",
          "text": [
            "[[2 2]\n",
            " [1 1]\n",
            " [0 0]\n",
            " ...\n",
            " [4 4]\n",
            " [5 5]\n",
            " [6 6]]\n"
          ],
          "name": "stdout"
        }
      ]
    },
    {
      "cell_type": "markdown",
      "metadata": {
        "id": "U3bRBXVzqurU"
      },
      "source": [
        "Formulating the Confusion Matrix"
      ]
    },
    {
      "cell_type": "code",
      "metadata": {
        "colab": {
          "base_uri": "https://localhost:8080/"
        },
        "id": "aKwFagyTrh_O",
        "outputId": "e82ee57f-3f95-4a05-b6c9-fab455255fe7"
      },
      "source": [
        "from sklearn.metrics import confusion_matrix, accuracy_score\n",
        "cm = confusion_matrix(y_test, y_pred)\n",
        "print(cm)\n",
        "accuracy_score(y_test, y_pred)"
      ],
      "execution_count": 37,
      "outputs": [
        {
          "output_type": "stream",
          "text": [
            "[[ 960    0    3    1    0    5    6    3    1    1]\n",
            " [   0 1111    4    2    0    1    5    1   11    0]\n",
            " [  11    9  911   20    9    5   13   14   37    3]\n",
            " [   4    1   16  919    2   25    4   10   20    9]\n",
            " [   1    4    5    6  914    0    9    3    5   35]\n",
            " [   8    2    0   39   11  770   18    7   30    7]\n",
            " [   8    4    7    1    5   20  910    1    2    0]\n",
            " [   4    9   23    5    7    2    1  941    6   29]\n",
            " [  11   14    5   22   13   28   10   12  847   12]\n",
            " [   7    8    2   15   31   13    0   28   13  892]]\n"
          ],
          "name": "stdout"
        },
        {
          "output_type": "execute_result",
          "data": {
            "text/plain": [
              "0.9175917591759176"
            ]
          },
          "metadata": {
            "tags": []
          },
          "execution_count": 37
        }
      ]
    },
    {
      "cell_type": "code",
      "metadata": {
        "colab": {
          "base_uri": "https://localhost:8080/"
        },
        "id": "D0f0rjLVFFGF",
        "outputId": "5facc731-22f2-4900-b08d-1cdb81a65159"
      },
      "source": [
        "from sklearn.metrics import confusion_matrix, accuracy_score\n",
        "cm_train = confusion_matrix(y_train, y_pred_train)\n",
        "print(cm_train)\n",
        "accuracy_score(y_train, y_pred_train)"
      ],
      "execution_count": 38,
      "outputs": [
        {
          "output_type": "stream",
          "text": [
            "[[5811    1   14    9    6   14   28    3   35    2]\n",
            " [   1 6601   29   13    5   21    2   11   52    7]\n",
            " [  35   45 5457   80   53   21   53   61  136   17]\n",
            " [  21   22  140 5524    9  161   21   51  118   64]\n",
            " [   7   23   30    7 5512   11   26   16   51  159]\n",
            " [  45   20   36  155   56 4843   89   14  112   50]\n",
            " [  29   10   28    3   25   84 5707    3   26    3]\n",
            " [  13   18   54    8   53    7    4 5925   18  165]\n",
            " [  44  116   60  140   34  144   41   24 5164   84]\n",
            " [  26   18   19  100  168   45    2  182   46 5343]]\n"
          ],
          "name": "stdout"
        },
        {
          "output_type": "execute_result",
          "data": {
            "text/plain": [
              "0.9314655244254071"
            ]
          },
          "metadata": {
            "tags": []
          },
          "execution_count": 38
        }
      ]
    },
    {
      "cell_type": "code",
      "metadata": {
        "id": "abi0z12usrCA"
      },
      "source": [
        "from sklearn.metrics import multilabel_confusion_matrix\n",
        "m_cm = multilabel_confusion_matrix(y_test, y_pred)\n",
        "print(m_cm)"
      ],
      "execution_count": null,
      "outputs": []
    }
  ]
}