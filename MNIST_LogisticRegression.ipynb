{
  "nbformat": 4,
  "nbformat_minor": 0,
  "metadata": {
    "colab": {
      "name": "MNIST_LogisticRegression.ipynb",
      "provenance": [],
      "collapsed_sections": [],
      "include_colab_link": true
    },
    "kernelspec": {
      "name": "python3",
      "display_name": "Python 3"
    },
    "language_info": {
      "name": "python"
    }
  },
  "cells": [
    {
      "cell_type": "markdown",
      "metadata": {
        "id": "view-in-github",
        "colab_type": "text"
      },
      "source": [
        "<a href=\"https://colab.research.google.com/github/royalflushallin/Machine-Learning/blob/main/MNIST_LogisticRegression.ipynb\" target=\"_parent\"><img src=\"https://colab.research.google.com/assets/colab-badge.svg\" alt=\"Open In Colab\"/></a>"
      ]
    },
    {
      "cell_type": "markdown",
      "metadata": {
        "id": "oPNH0puvG_v9"
      },
      "source": [
        "Importing libraries"
      ]
    },
    {
      "cell_type": "code",
      "metadata": {
        "id": "2wk_xJh9HurL"
      },
      "source": [
        "import numpy as np\n",
        "import matplotlib.pyplot as plt\n",
        "import pandas as pd"
      ],
      "execution_count": 1,
      "outputs": []
    },
    {
      "cell_type": "markdown",
      "metadata": {
        "id": "imcQftsSHEPf"
      },
      "source": [
        "Importing datasets"
      ]
    },
    {
      "cell_type": "code",
      "metadata": {
        "id": "N2d7Wwc0Hvfv"
      },
      "source": [
        "dataset_train = pd.read_csv('mnist_train.csv')\n",
        "X_train = dataset_train.iloc[:, 1:].values\n",
        "y_train = dataset_train.iloc[:, 0].values"
      ],
      "execution_count": 2,
      "outputs": []
    },
    {
      "cell_type": "code",
      "metadata": {
        "id": "BgpNQzUQNHCB"
      },
      "source": [
        "dataset_test = pd.read_csv('mnist_test.csv')\n",
        "X_test = dataset_test.iloc[:, 1:].values\n",
        "y_test = dataset_test.iloc[:, 0].values"
      ],
      "execution_count": 3,
      "outputs": []
    },
    {
      "cell_type": "markdown",
      "metadata": {
        "id": "mwfaguqcNK3h"
      },
      "source": [
        "Feature scaling"
      ]
    },
    {
      "cell_type": "code",
      "metadata": {
        "id": "71AiXHCGO05Q"
      },
      "source": [
        "from sklearn.preprocessing import StandardScaler\n",
        "sc = StandardScaler()\n",
        "X_train = sc.fit_transform(X_train)\n",
        "X_test = sc.transform(X_test)"
      ],
      "execution_count": 4,
      "outputs": []
    },
    {
      "cell_type": "markdown",
      "metadata": {
        "id": "k34tmpcynoxt"
      },
      "source": [
        "Training the multi-class Logistic Regression model"
      ]
    },
    {
      "cell_type": "code",
      "metadata": {
        "colab": {
          "base_uri": "https://localhost:8080/"
        },
        "id": "sL2hmGw_nu2w",
        "outputId": "aaf6d9ca-4009-4228-cdc7-ef08a5df8e03"
      },
      "source": [
        "from sklearn.linear_model import LogisticRegression\n",
        "classifier = LogisticRegression(random_state=0, multi_class='ovr', max_iter=1000)\n",
        "classifier.fit(X_train, y_train)"
      ],
      "execution_count": 7,
      "outputs": [
        {
          "output_type": "execute_result",
          "data": {
            "text/plain": [
              "LogisticRegression(C=1.0, class_weight=None, dual=False, fit_intercept=True,\n",
              "                   intercept_scaling=1, l1_ratio=None, max_iter=1000,\n",
              "                   multi_class='ovr', n_jobs=None, penalty='l2', random_state=0,\n",
              "                   solver='lbfgs', tol=0.0001, verbose=0, warm_start=False)"
            ]
          },
          "metadata": {
            "tags": []
          },
          "execution_count": 7
        }
      ]
    },
    {
      "cell_type": "markdown",
      "metadata": {
        "id": "pI_3XYP0nzBS"
      },
      "source": [
        "Predicting results"
      ]
    },
    {
      "cell_type": "code",
      "metadata": {
        "colab": {
          "base_uri": "https://localhost:8080/"
        },
        "id": "0-i5D4mDn2BQ",
        "outputId": "ce3bb71c-3be1-4a89-d3f0-82b3fb3e5995"
      },
      "source": [
        "y_pred = classifier.predict(X_test)\n",
        "print(np.concatenate((y_pred.reshape(len(y_pred),1), y_test.reshape(len(y_test),1)),1))"
      ],
      "execution_count": 8,
      "outputs": [
        {
          "output_type": "stream",
          "text": [
            "[[2 2]\n",
            " [1 1]\n",
            " [0 0]\n",
            " ...\n",
            " [4 4]\n",
            " [5 5]\n",
            " [6 6]]\n"
          ],
          "name": "stdout"
        }
      ]
    },
    {
      "cell_type": "markdown",
      "metadata": {
        "id": "U3bRBXVzqurU"
      },
      "source": [
        "Formulating the Confusion Matrix"
      ]
    },
    {
      "cell_type": "code",
      "metadata": {
        "colab": {
          "base_uri": "https://localhost:8080/"
        },
        "id": "aKwFagyTrh_O",
        "outputId": "17c3f5b1-355a-45e2-add2-39adaa277e73"
      },
      "source": [
        "from sklearn.metrics import confusion_matrix, accuracy_score\n",
        "cm = confusion_matrix(y_test, y_pred)\n",
        "print(cm)\n",
        "accuracy_score(y_test, y_pred)"
      ],
      "execution_count": 9,
      "outputs": [
        {
          "output_type": "stream",
          "text": [
            "[[ 960    0    3    1    0    5    6    3    1    1]\n",
            " [   0 1111    4    2    0    1    5    1   11    0]\n",
            " [  11    9  911   20    9    5   13   14   37    3]\n",
            " [   4    1   16  919    2   25    4   10   20    9]\n",
            " [   1    4    5    6  914    0    9    3    5   35]\n",
            " [   8    2    0   39   11  770   18    7   30    7]\n",
            " [   8    4    7    1    5   20  910    1    2    0]\n",
            " [   4    9   23    5    7    2    1  941    6   29]\n",
            " [  11   14    5   22   13   28   10   12  847   12]\n",
            " [   7    8    2   15   31   13    0   28   13  892]]\n"
          ],
          "name": "stdout"
        },
        {
          "output_type": "execute_result",
          "data": {
            "text/plain": [
              "0.9175917591759176"
            ]
          },
          "metadata": {
            "tags": []
          },
          "execution_count": 9
        }
      ]
    },
    {
      "cell_type": "code",
      "metadata": {
        "colab": {
          "base_uri": "https://localhost:8080/"
        },
        "id": "abi0z12usrCA",
        "outputId": "08c85b84-4ece-43af-8534-334e5ca1daf7"
      },
      "source": [
        "from sklearn.metrics import multilabel_confusion_matrix\n",
        "m_cm = multilabel_confusion_matrix(y_test, y_pred)\n",
        "print(m_cm)"
      ],
      "execution_count": 10,
      "outputs": [
        {
          "output_type": "stream",
          "text": [
            "[[[8965   54]\n",
            "  [  20  960]]\n",
            "\n",
            " [[8813   51]\n",
            "  [  24 1111]]\n",
            "\n",
            " [[8902   65]\n",
            "  [ 121  911]]\n",
            "\n",
            " [[8878  111]\n",
            "  [  91  919]]\n",
            "\n",
            " [[8939   78]\n",
            "  [  68  914]]\n",
            "\n",
            " [[9008   99]\n",
            "  [ 122  770]]\n",
            "\n",
            " [[8975   66]\n",
            "  [  48  910]]\n",
            "\n",
            " [[8893   79]\n",
            "  [  86  941]]\n",
            "\n",
            " [[8900  125]\n",
            "  [ 127  847]]\n",
            "\n",
            " [[8894   96]\n",
            "  [ 117  892]]]\n"
          ],
          "name": "stdout"
        }
      ]
    }
  ]
}