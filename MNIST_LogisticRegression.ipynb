{
  "nbformat": 4,
  "nbformat_minor": 0,
  "metadata": {
    "colab": {
      "name": "MNIST_LogisticRegression.ipynb",
      "provenance": [],
      "collapsed_sections": []
    },
    "kernelspec": {
      "name": "python3",
      "display_name": "Python 3"
    },
    "language_info": {
      "name": "python"
    }
  },
  "cells": [
    {
      "cell_type": "markdown",
      "metadata": {
        "id": "oPNH0puvG_v9"
      },
      "source": [
        "Importing libraries"
      ]
    },
    {
      "cell_type": "code",
      "metadata": {
        "id": "2wk_xJh9HurL"
      },
      "source": [
        "import numpy as np\n",
        "import matplotlib.pyplot as plt\n",
        "import pandas as pd"
      ],
      "execution_count": null,
      "outputs": []
    },
    {
      "cell_type": "markdown",
      "metadata": {
        "id": "imcQftsSHEPf"
      },
      "source": [
        "Importing datasets"
      ]
    },
    {
      "cell_type": "code",
      "metadata": {
        "id": "N2d7Wwc0Hvfv"
      },
      "source": [
        "dataset = pd.read_csv('mnist_train.csv')\n",
        "X_train = dataset.iloc[:, 1:].values\n",
        "y_train = dataset.iloc[:, 0].values"
      ],
      "execution_count": null,
      "outputs": []
    },
    {
      "cell_type": "code",
      "metadata": {
        "id": "BgpNQzUQNHCB"
      },
      "source": [
        "dataset = pd.read_csv('mnist_test.csv')\n",
        "X_test = dataset.iloc[:, 1:].values\n",
        "y_test = dataset.iloc[:, 0].values"
      ],
      "execution_count": null,
      "outputs": []
    },
    {
      "cell_type": "code",
      "metadata": {
        "id": "6SM9M6fwx6FB"
      },
      "source": [
        "print(type(y))"
      ],
      "execution_count": null,
      "outputs": []
    },
    {
      "cell_type": "markdown",
      "metadata": {
        "id": "mwfaguqcNK3h"
      },
      "source": [
        "Feature scaling"
      ]
    },
    {
      "cell_type": "code",
      "metadata": {
        "id": "71AiXHCGO05Q"
      },
      "source": [
        "fac = 0.99 / 255\n",
        "X_train = np.asfarray(X_train[:, 1:]) * fac + 0.01"
      ],
      "execution_count": null,
      "outputs": []
    },
    {
      "cell_type": "code",
      "metadata": {
        "id": "4X91IHIKUjn1"
      },
      "source": [
        "print(X_train[0:9, 500:510])"
      ],
      "execution_count": null,
      "outputs": []
    }
  ]
}