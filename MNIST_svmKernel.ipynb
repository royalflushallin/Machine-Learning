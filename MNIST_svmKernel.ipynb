{
  "nbformat": 4,
  "nbformat_minor": 0,
  "metadata": {
    "colab": {
      "name": "MNIST_svmKernel.ipynb",
      "provenance": [],
      "collapsed_sections": [],
      "include_colab_link": true
    },
    "kernelspec": {
      "name": "python3",
      "display_name": "Python 3"
    },
    "language_info": {
      "name": "python"
    }
  },
  "cells": [
    {
      "cell_type": "markdown",
      "metadata": {
        "id": "view-in-github",
        "colab_type": "text"
      },
      "source": [
        "<a href=\"https://colab.research.google.com/github/royalflushallin/Machine-Learning/blob/main/MNIST_svmKernel.ipynb\" target=\"_parent\"><img src=\"https://colab.research.google.com/assets/colab-badge.svg\" alt=\"Open In Colab\"/></a>"
      ]
    },
    {
      "cell_type": "markdown",
      "metadata": {
        "id": "oPNH0puvG_v9"
      },
      "source": [
        "Importing libraries"
      ]
    },
    {
      "cell_type": "code",
      "metadata": {
        "id": "2wk_xJh9HurL"
      },
      "source": [
        "import numpy as np\n",
        "import matplotlib.pyplot as plt\n",
        "import pandas as pd"
      ],
      "execution_count": 5,
      "outputs": []
    },
    {
      "cell_type": "markdown",
      "metadata": {
        "id": "imcQftsSHEPf"
      },
      "source": [
        "Importing datasets"
      ]
    },
    {
      "cell_type": "code",
      "metadata": {
        "id": "N2d7Wwc0Hvfv"
      },
      "source": [
        "dataset = pd.read_csv('mnist_train.csv')\n",
        "X_train = dataset.iloc[:, 1:].values\n",
        "y_train = dataset.iloc[:, 0].values"
      ],
      "execution_count": 6,
      "outputs": []
    },
    {
      "cell_type": "code",
      "metadata": {
        "id": "BgpNQzUQNHCB"
      },
      "source": [
        "dataset = pd.read_csv('mnist_test.csv')\n",
        "X_test = dataset.iloc[:, 1:].values\n",
        "y_test = dataset.iloc[:, 0].values"
      ],
      "execution_count": 7,
      "outputs": []
    },
    {
      "cell_type": "markdown",
      "metadata": {
        "id": "mwfaguqcNK3h"
      },
      "source": [
        "Feature scaling"
      ]
    },
    {
      "cell_type": "code",
      "metadata": {
        "id": "fy40hshHT0Ww"
      },
      "source": [
        "from sklearn.preprocessing import StandardScaler\n",
        "sc = StandardScaler()\n",
        "X_train = sc.fit_transform(X_train)\n",
        "X_test = sc.transform(X_test)"
      ],
      "execution_count": 8,
      "outputs": []
    },
    {
      "cell_type": "markdown",
      "metadata": {
        "id": "LTrSqU5RT1TI"
      },
      "source": [
        "Training the multi-class SVM-rbf kernel model"
      ]
    },
    {
      "cell_type": "code",
      "metadata": {
        "id": "vxPmww4PT_v5",
        "colab": {
          "base_uri": "https://localhost:8080/"
        },
        "outputId": "a4a4a555-4549-4778-9a72-1a9707a338b9"
      },
      "source": [
        "from sklearn.svm import SVC\n",
        "classifier = SVC(random_state=0, kernel = 'rbf', decision_function_shape='ovr')\n",
        "classifier.fit(X_train, y_train)"
      ],
      "execution_count": 9,
      "outputs": [
        {
          "output_type": "execute_result",
          "data": {
            "text/plain": [
              "SVC(C=1.0, break_ties=False, cache_size=200, class_weight=None, coef0=0.0,\n",
              "    decision_function_shape='ovr', degree=3, gamma='scale', kernel='rbf',\n",
              "    max_iter=-1, probability=False, random_state=0, shrinking=True, tol=0.001,\n",
              "    verbose=False)"
            ]
          },
          "metadata": {
            "tags": []
          },
          "execution_count": 9
        }
      ]
    },
    {
      "cell_type": "markdown",
      "metadata": {
        "id": "BDjQHA0LUTKt"
      },
      "source": [
        "Predicting results"
      ]
    },
    {
      "cell_type": "code",
      "metadata": {
        "id": "6dUr7_Y-UXtY",
        "colab": {
          "base_uri": "https://localhost:8080/"
        },
        "outputId": "bae8086c-1f59-47b9-ce5e-2aa0cfc335d2"
      },
      "source": [
        "y_pred = classifier.predict(X_test)\n",
        "print(np.concatenate((y_pred.reshape(len(y_pred),1), y_test.reshape(len(y_test),1)),1))\n",
        "y_pred_train = classifier.predict(X_train)"
      ],
      "execution_count": 10,
      "outputs": [
        {
          "output_type": "stream",
          "text": [
            "[[2 2]\n",
            " [1 1]\n",
            " [0 0]\n",
            " ...\n",
            " [4 4]\n",
            " [5 5]\n",
            " [6 6]]\n"
          ],
          "name": "stdout"
        }
      ]
    },
    {
      "cell_type": "markdown",
      "metadata": {
        "id": "omYufCJjUcnt"
      },
      "source": [
        "Test-set Confusion Matrix "
      ]
    },
    {
      "cell_type": "code",
      "metadata": {
        "id": "8RPglRBNUdDu",
        "colab": {
          "base_uri": "https://localhost:8080/"
        },
        "outputId": "4e0860a6-fd37-4411-b5a2-7ca535403dad"
      },
      "source": [
        "from sklearn.metrics import confusion_matrix, accuracy_score\n",
        "cm = confusion_matrix(y_test, y_pred)\n",
        "print(cm)\n",
        "accuracy_score(y_test, y_pred)"
      ],
      "execution_count": 11,
      "outputs": [
        {
          "output_type": "stream",
          "text": [
            "[[ 968    0    1    1    0    3    3    2    2    0]\n",
            " [   0 1127    3    0    0    1    2    0    2    0]\n",
            " [   5    1  996    2    2    0    1   15    9    1]\n",
            " [   0    0    4  979    1    7    0   12    7    0]\n",
            " [   0    0   12    0  944    2    4    7    3   10]\n",
            " [   2    0    1   10    2  854    6    8    7    2]\n",
            " [   6    2    1    0    4    8  930    2    5    0]\n",
            " [   1    6   13    2    3    0    0  989    0   13]\n",
            " [   3    0    4    6    6    9    3   14  926    3]\n",
            " [   4    6    5   11   12    2    0   20    3  946]]\n"
          ],
          "name": "stdout"
        },
        {
          "output_type": "execute_result",
          "data": {
            "text/plain": [
              "0.965996599659966"
            ]
          },
          "metadata": {
            "tags": []
          },
          "execution_count": 11
        }
      ]
    },
    {
      "cell_type": "markdown",
      "metadata": {
        "id": "1jjBf9-XU3aX"
      },
      "source": [
        "Training-set Confusion Matrix "
      ]
    },
    {
      "cell_type": "code",
      "metadata": {
        "id": "ojejtF4oU4CW",
        "colab": {
          "base_uri": "https://localhost:8080/"
        },
        "outputId": "b2645aa3-3698-4e71-d6c9-d0ff5b8d8a6e"
      },
      "source": [
        "from sklearn.metrics import confusion_matrix, accuracy_score\n",
        "cm_train = confusion_matrix(y_train, y_pred_train)\n",
        "print(cm_train)\n",
        "accuracy_score(y_train, y_pred_train)"
      ],
      "execution_count": 12,
      "outputs": [
        {
          "output_type": "stream",
          "text": [
            "[[5896    2    0    1    1    3   10    1    8    1]\n",
            " [   1 6690   16    7    5    0    1    8    5    9]\n",
            " [   8    6 5898    4    9    1    1   14   14    3]\n",
            " [   0    7   17 6011    3   25    0   20   36   12]\n",
            " [   2   10    6    0 5763    0    7    4    2   48]\n",
            " [   6    3    5   33    6 5341   16    1    7    2]\n",
            " [  13    5    1    0    5   12 5877    0    5    0]\n",
            " [   1   21   17    3   17    0    0 6175    1   30]\n",
            " [   5   26    7   22    7   15    7    7 5749    6]\n",
            " [   6    8    2   29   44    5    1   46   12 5796]]\n"
          ],
          "name": "stdout"
        },
        {
          "output_type": "execute_result",
          "data": {
            "text/plain": [
              "0.9866164436073934"
            ]
          },
          "metadata": {
            "tags": []
          },
          "execution_count": 12
        }
      ]
    }
  ]
}